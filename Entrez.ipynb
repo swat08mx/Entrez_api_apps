{
  "nbformat": 4,
  "nbformat_minor": 0,
  "metadata": {
    "colab": {
      "provenance": []
    },
    "kernelspec": {
      "name": "python3",
      "display_name": "Python 3"
    },
    "language_info": {
      "name": "python"
    }
  },
  "cells": [
    {
      "cell_type": "code",
      "execution_count": null,
      "metadata": {
        "colab": {
          "base_uri": "https://localhost:8080/"
        },
        "id": "PMXqEXPkqb-R",
        "outputId": "bdf5a591-f78f-4fce-ce57-0cb420ee8e6c"
      },
      "outputs": [
        {
          "output_type": "stream",
          "name": "stdout",
          "text": [
            "Collecting Biopython\n",
            "  Downloading biopython-1.81-cp310-cp310-manylinux_2_17_x86_64.manylinux2014_x86_64.whl (3.1 MB)\n",
            "\u001b[2K     \u001b[90m━━━━━━━━━━━━━━━━━━━━━━━━━━━━━━━━━━━━━━━━\u001b[0m \u001b[32m3.1/3.1 MB\u001b[0m \u001b[31m11.6 MB/s\u001b[0m eta \u001b[36m0:00:00\u001b[0m\n",
            "\u001b[?25hRequirement already satisfied: numpy in /usr/local/lib/python3.10/dist-packages (from Biopython) (1.23.5)\n",
            "Installing collected packages: Biopython\n",
            "Successfully installed Biopython-1.81\n"
          ]
        }
      ],
      "source": [
        "!pip install Biopython"
      ]
    },
    {
      "cell_type": "code",
      "source": [
        "from Bio import Entrez\n",
        "import sqlite3 as sq\n",
        "from tqdm import tqdm"
      ],
      "metadata": {
        "id": "zt2bGVPy33lP"
      },
      "execution_count": null,
      "outputs": []
    },
    {
      "cell_type": "code",
      "source": [
        "inp = input(\"Enter the term you want to search: \")\n",
        "nums = int(input(\"Enter the number of abstracts you want to fetch: \"))"
      ],
      "metadata": {
        "colab": {
          "base_uri": "https://localhost:8080/"
        },
        "id": "OdM7-OV7dvwA",
        "outputId": "5ca58eea-6e29-44df-e4d0-663a22840b69"
      },
      "execution_count": null,
      "outputs": [
        {
          "name": "stdout",
          "output_type": "stream",
          "text": [
            "Enter the term you want to search: Bioremediation\n",
            "Enter the number of abstracts you want to fetch: 10\n"
          ]
        }
      ]
    },
    {
      "cell_type": "code",
      "source": [
        "Entrez.email = \"swattik881@gmail.com\"\n",
        "handle = Entrez.esearch(db=\"pubmed\", retmax = nums, term = inp)\n",
        "read = Entrez.read(handle)\n",
        "var = read[\"IdList\"]\n",
        "lists_of_ids = []\n",
        "for chars in var:\n",
        "    lists_of_ids.append(chars)\n",
        "max_len = len(lists_of_ids)\n",
        "new = []\n",
        "for i in tqdm(range(nums)):\n",
        "    try:\n",
        "        fetch = Entrez.efetch(db = \"pubmed\", id = read[\"IdList\"][i], rettype = \"XML\")\n",
        "        read_one = Entrez.read(fetch)\n",
        "        new.append(read_one[\"PubmedArticle\"][0][\"MedlineCitation\"][\"Article\"][\"Abstract\"][\"AbstractText\"])\n",
        "    except:\n",
        "        pass\n",
        "## Keeping the file name same, would append the outputs to the same file everytime.So either delete the file or chaneg the file name and make a new file.\n",
        "fhand = open(\"Abstracts.txt\", \"w\")\n",
        "data=[]\n",
        "for i in range (len(new)):\n",
        "    data.append(\" \".join(new[i]))\n",
        "final=data\n",
        "for i in range(len(final)):\n",
        "  fhand.write(final[i])\n",
        "  fhand.write(\"\\n \\n\")"
      ],
      "metadata": {
        "colab": {
          "base_uri": "https://localhost:8080/"
        },
        "id": "7UC4Gt2HU4cp",
        "outputId": "86b93f8c-68bd-4886-d662-e67a399dd185"
      },
      "execution_count": null,
      "outputs": [
        {
          "output_type": "stream",
          "name": "stderr",
          "text": [
            "100%|██████████| 10/10 [00:03<00:00,  2.60it/s]\n"
          ]
        }
      ]
    },
    {
      "cell_type": "markdown",
      "source": [
        "Enable the code below in order to save the outputs to an SQL database."
      ],
      "metadata": {
        "id": "Rjt6f2tL-ZEy"
      }
    },
    {
      "cell_type": "code",
      "source": [
        "# conn = sq.connect('final.db')\n",
        "# conn.execute(\"CREATE TABLE IF NOT EXISTS abstract(Abstracts TEXT)\")\n",
        "# cur = conn.cursor()"
      ],
      "metadata": {
        "id": "2hLpVKdBVjxp"
      },
      "execution_count": null,
      "outputs": []
    },
    {
      "cell_type": "code",
      "source": [
        "# sql_insert = \"\"\"INSERT INTO abstract (Abstracts) VALUES (?)\"\"\"\n",
        "# for items in final:\n",
        "#     cur.execute(sql_insert, (items,))"
      ],
      "metadata": {
        "id": "GW-xfcAUVmPz"
      },
      "execution_count": null,
      "outputs": []
    },
    {
      "cell_type": "code",
      "source": [
        "# for row in cur.execute(\"SELECT * FROM abstract\"):\n",
        "#     print(row)\n",
        "#     break"
      ],
      "metadata": {
        "id": "-3-Hb89BVowI"
      },
      "execution_count": null,
      "outputs": []
    },
    {
      "cell_type": "code",
      "source": [
        "# conn.commit()\n",
        "# cur.close()\n",
        "# conn.close()"
      ],
      "metadata": {
        "id": "Z-QFKabcVr7V"
      },
      "execution_count": null,
      "outputs": []
    },
    {
      "cell_type": "code",
      "source": [],
      "metadata": {
        "id": "vxCFJ5msVvI9"
      },
      "execution_count": null,
      "outputs": []
    }
  ]
}